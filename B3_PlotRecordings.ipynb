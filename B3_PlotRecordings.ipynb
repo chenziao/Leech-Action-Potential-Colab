{
  "nbformat": 4,
  "nbformat_minor": 0,
  "metadata": {
    "kernelspec": {
      "display_name": "Python 3",
      "language": "python",
      "name": "python3"
    },
    "language_info": {
      "codemirror_mode": {
        "name": "ipython",
        "version": 3
      },
      "file_extension": ".py",
      "mimetype": "text/x-python",
      "name": "python",
      "nbconvert_exporter": "python",
      "pygments_lexer": "ipython3",
      "version": "3.7.1"
    },
    "colab": {
      "name": "B3_PlotRecordings.ipynb",
      "provenance": [],
      "collapsed_sections": []
    }
  },
  "cells": [
    {
      "cell_type": "markdown",
      "metadata": {
        "id": "wT3bled25LnU"
      },
      "source": [
        "# Biology experiment 3 - Leech Action Potential\n",
        "## - Download recordings data files from Github"
      ]
    },
    {
      "cell_type": "code",
      "metadata": {
        "id": "2QDdjALtI9G1"
      },
      "source": [
        "import os\n",
        "\n",
        "if os.path.basename(os.getcwd())!='Leech-Action-Potential-Colab':\n",
        "  !git clone https://github.com/chenziao/Leech-Action-Potential-Colab.git\n",
        "  %cd Leech-Action-Potential-Colab/\n",
        "  %ls\n",
        "else:\n",
        "  print('Data files have already been downloaded.')\n",
        "  %ls"
      ],
      "execution_count": null,
      "outputs": []
    },
    {
      "cell_type": "markdown",
      "metadata": {
        "id": "EwGByWao5LnY"
      },
      "source": [
        "#### Run the cell below. Select the file of the recording data in the menu and click on \"Select\" button. After selecting a recording, run the next cell below to plot the recording and start analysis.\n"
      ]
    },
    {
      "cell_type": "code",
      "metadata": {
        "id": "zZt9JsjRLBWZ"
      },
      "source": [
        "import glob\n",
        "import ipywidgets as widgets\n",
        "from ipywidgets import interactive_output,HBox,VBox,Label,Layout\n",
        "from IPython.display import display, Javascript, clear_output\n",
        "\n",
        "datafiles = sorted(glob.glob('*.txt'))\n",
        "\n",
        "def select_files(*arg):\n",
        "    global file_name\n",
        "    file_name = w_file.value\n",
        "    clear_output(wait=True)\n",
        "    display(VBox([w_file,SelectFileButton]))\n",
        "    print(file_name+' is selected.')\n",
        "\n",
        "w_file = widgets.Select(options=datafiles,description='Select Data:',rows=len(datafiles))\n",
        "SelectFileButton = widgets.Button(description='Select',button_style='primary')\n",
        "SelectFileButton.on_click(select_files)\n",
        "select_files()"
      ],
      "execution_count": null,
      "outputs": []
    },
    {
      "cell_type": "markdown",
      "metadata": {
        "id": "9jp73lnlJQD-"
      },
      "source": [
        "## - Plot Intracellular Recordings\n",
        "#### Use the slider below the figure to select a time range to display. You can also enter the range directly in the text box.\n",
        "#### Click on \"Low-pass Filter\" button to filter out the oscillatory noise arised from the internal circuit of the amplifier. Use the slider on the right to set the cut-off frequency. Lower cut-off frequency will reduce noise better but also attenuate the amplitude of spikes since spikes also have high frequency component. 400 Hz cut-off frequency is recommended if you are observing spikes. 200-250 Hz cut-off frequency is recommended when you are measuring passive properties.\n",
        "\n",
        "### Note: When you answer the questions using the recording data, remember to specify which piece of data you use and show your work in questions involving calculation."
      ]
    },
    {
      "cell_type": "code",
      "metadata": {
        "id": "j1amwU8V5Lna"
      },
      "source": [
        "import pandas as pd\n",
        "import numpy as np\n",
        "from scipy import signal\n",
        "import matplotlib.pyplot as plt\n",
        "%matplotlib inline\n",
        "\n",
        "headers = ['V','I']\n",
        "parameters = pd.read_csv(open(file_name),names=headers,nrows=3)\n",
        "dt = [float(s) for s in parameters.iloc[0,0].split() if s.replace('.','',1).isdigit()][0] # time step (ms)\n",
        "dV = [float(s) for s in parameters.iloc[1,0].split() if s.replace('.','',1).isdigit()][0] # Voltage unit (mV)\n",
        "dI = [float(s) for s in parameters.iloc[2,0].split() if s.replace('.','',1).isdigit()][0] # Current unit (nA)\n",
        "Fs = 1000/dt\n",
        "data = pd.read_csv(open(file_name),names=headers,skiprows=4)\n",
        "N = data.shape[0]\n",
        "t = dt*np.arange(N)\n",
        "T = t[-1]\n",
        "V = dV*data['V'].values\n",
        "I = dI*data['I'].values\n",
        "\n",
        "freq_cutoff = 400\n",
        "t_range = [0,T]\n",
        "y_range = [0.,1.]\n",
        "\n",
        "def plot_traces(filt,cutoff,t_range,y_range):\n",
        "    [x1,x2] = [max(np.floor(t_range[0]/T*N).astype(int),0) , min(np.ceil(t_range[1]/T*N).astype(int),N)+1]\n",
        "    plt.close('all')\n",
        "    fig = plt.figure(figsize=(12,8))\n",
        "    ax1 = fig.add_subplot(211)\n",
        "    ax2 = fig.add_subplot(212)\n",
        "    if filt:\n",
        "        ax1.plot(t[x1:x2],V[x1:x2],'cyan')\n",
        "        ax1.plot(t[x1:x2],V_filt[x1:x2],'blue')\n",
        "        ax1.legend(['Raw V','Filtered V'],loc=1)\n",
        "        ax2.plot(t[x1:x2],I[x1:x2],'pink')\n",
        "        ax2.plot(t[x1:x2],I_filt[x1:x2],'red')\n",
        "        ax2.legend(['Raw I','Filtered I'],loc=1)\n",
        "    else:\n",
        "        ax1.plot(t[x1:x2],V[x1:x2],'b')\n",
        "        ax2.plot(t[x1:x2],I[x1:x2],'r')\n",
        "    ax1.set_xlim(t_range)\n",
        "    ax2.set_xlim(t_range)\n",
        "    yl = ax1.get_ylim()\n",
        "    ax1.set_ylim(np.asarray(y_range)*(yl[1]-yl[0])+yl[0])\n",
        "    ax1.set_ylabel('mV')\n",
        "    ax2.set_ylabel('nA')\n",
        "    ax2.set_xlabel('Time (ms)')\n",
        "    plt.show()\n",
        "\n",
        "w_reset = widgets.Button(description='Reset',icon='history',button_style='primary')\n",
        "w_filt = widgets.ToggleButton(value=False,description='Low-pass Filter',button_style='info',icon='play')\n",
        "w_cutoff = widgets.FloatSlider(value=freq_cutoff,min=10,max=Fs/2,step=1,disabled=True,continuous_update=False)\n",
        "w_t_range = widgets.FloatRangeSlider(value=t_range,min=0,max=T,step=1,continuous_update=False,readout_format='.0f',layout=Layout(width='60%'))\n",
        "w_y = widgets.FloatRangeSlider(value=y_range,min=0.,max=1.,step=0.01,readout=False,continuous_update=False,orientation='vertical',layout=Layout(height='200px'))\n",
        "\n",
        "def reset_default(*args):\n",
        "    w_filt.value = False\n",
        "    w_cutoff.value = freq_cutoff\n",
        "    w_y.value = y_range\n",
        "    w_t_range.value = t_range\n",
        "w_reset.on_click(reset_default)\n",
        "\n",
        "def switch_filt(*arg):\n",
        "    if w_filt.value:\n",
        "        w_cutoff.disabled = False\n",
        "    else:\n",
        "        w_cutoff.disabled = True\n",
        "w_filt.observe(switch_filt,'value')\n",
        "\n",
        "def set_cutoff(*arg):\n",
        "    global V_filt,I_filt\n",
        "    bFilt,aFilt = signal.butter(2,w_cutoff.value*2/Fs,btype='lowpass')\n",
        "    V_filt = signal.filtfilt(bFilt,aFilt,V)\n",
        "    I_filt = signal.filtfilt(bFilt,aFilt,I)\n",
        "w_cutoff.observe(set_cutoff,'value')\n",
        "\n",
        "def set_y_range(*arg):\n",
        "    min_dist = 0.05\n",
        "    y_range = list(w_y.value)\n",
        "    y_range[1] = min(max(y_range[0]+min_dist,y_range[1]),1.)\n",
        "    y_range[0] = max(min(y_range[1]-min_dist,y_range[0]),0.)\n",
        "    w_y.value = y_range\n",
        "w_y.observe(set_y_range,'value')\n",
        "\n",
        "set_cutoff()\n",
        "out = interactive_output(plot_traces,{'filt':w_filt,'cutoff':w_cutoff,'t_range':w_t_range,'y_range':w_y})\n",
        "ui = VBox([w_reset,HBox([out,VBox([w_y,Label('Zoom in')])]),HBox([Label('Display Time Range (ms):'),w_t_range]),HBox([w_filt,Label('Cut-off frequency'),w_cutoff])])\n",
        "display(ui)"
      ],
      "execution_count": null,
      "outputs": []
    },
    {
      "cell_type": "code",
      "metadata": {
        "id": "J1sSbRZu5Lnc"
      },
      "source": [
        ""
      ],
      "execution_count": null,
      "outputs": []
    }
  ]
}